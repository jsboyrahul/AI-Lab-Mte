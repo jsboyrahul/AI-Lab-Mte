{
  "nbformat": 4,
  "nbformat_minor": 0,
  "metadata": {
    "colab": {
      "name": "RahulMishra_1713101228__AI LAB.ipynb",
      "provenance": [],
      "collapsed_sections": [],
      "authorship_tag": "ABX9TyOQtVRVPsXLKHKNeMEcyDnn",
      "include_colab_link": true
    },
    "kernelspec": {
      "name": "python3",
      "display_name": "Python 3"
    }
  },
  "cells": [
    {
      "cell_type": "markdown",
      "metadata": {
        "id": "view-in-github",
        "colab_type": "text"
      },
      "source": [
        "<a href=\"https://colab.research.google.com/github/jsboyrahul/AI-Lab-Mte/blob/master/RahulMishra_1713101228__AI_LAB.ipynb\" target=\"_parent\"><img src=\"https://colab.research.google.com/assets/colab-badge.svg\" alt=\"Open In Colab\"/></a>"
      ]
    },
    {
      "cell_type": "markdown",
      "metadata": {
        "id": "ehILqO_AXyNv",
        "colab_type": "text"
      },
      "source": [
        "NAME RAHUL MISHRA\n",
        "1713101228\n",
        "MOBILE -8448622067"
      ]
    },
    {
      "cell_type": "markdown",
      "metadata": {
        "id": "DeXhx7CpYHxH",
        "colab_type": "text"
      },
      "source": [
        "EXPERIMENT 6: IMPLEMENTATION OF LOCAL BEAM SEARCH ALGORITHM\n",
        "    "
      ]
    },
    {
      "cell_type": "code",
      "metadata": {
        "id": "IC3OibETX2YL",
        "colab_type": "code",
        "colab": {
          "base_uri": "https://localhost:8080/",
          "height": 252
        },
        "outputId": "6d336872-44c9-4a7e-b727-18c275fcb454"
      },
      "source": [
        "#importing necessary libraries\n",
        "from numpy import array\n",
        "from numpy import argmax\n",
        "from math import log\n",
        "\n",
        "#defining function to perform local beam search\n",
        "def beam_search(data, k):\n",
        "\tsequences = [[list(), 1.0]]\n",
        "\tfor row in data:\n",
        "\t\tall_candidates = list()\n",
        "\t\tfor i in range(len(sequences)):\n",
        "\t\t\tseq, score = sequences[i]\n",
        "\t\t\tfor j in range(len(row)):\n",
        "\t\t\t\tcandidate = [seq + [j], score * -log(row[j])]\n",
        "\t\t\t\tall_candidates.append(candidate)\n",
        "\t\tordered = sorted(all_candidates, key=lambda tup:tup[1])\n",
        "\t\tsequences = ordered[:k]\n",
        "\treturn sequences\n",
        "\n",
        "#defining data under d\n",
        "d = [\n",
        "     [1,2,3,4,5],\n",
        "     [5,4,3,2,1],\n",
        "     [1,2,3,4,5],\n",
        "     [5,4,3,2,1],\n",
        "     [1,2,3,4,5],\n",
        "     [5,4,3,2,1],\n",
        "     [1,2,3,4,5],\n",
        "     [5,4,3,2,1],\n",
        "     [1,2,3,4,5],\n",
        "     [5,4,3,2,1],\n",
        "]\n",
        "\n",
        "#defining main function to process considered data d under beam search fuction\n",
        "\n",
        "d=array(d)\n",
        "\n",
        "#taking input   \n",
        "n=int(input(\"enter the number equivalent to required number of sequences : \\n\"))\n",
        "out = beam_search(d,n)\n",
        "for seq in out:\n",
        "  print(seq)    "
      ],
      "execution_count": 24,
      "outputs": [
        {
          "output_type": "stream",
          "text": [
            "enter the number equivalent to required number of sequences : \n",
            "12\n",
            "[[2, 3, 4, 4, 0, 0, 0, 0, 0, 0], 0.0]\n",
            "[[2, 3, 4, 4, 0, 0, 0, 0, 0, 1], 0.0]\n",
            "[[2, 3, 4, 4, 0, 0, 0, 0, 0, 2], 0.0]\n",
            "[[2, 3, 4, 4, 0, 0, 0, 0, 0, 3], 0.0]\n",
            "[[2, 3, 4, 4, 0, 0, 0, 0, 0, 4], 0.0]\n",
            "[[2, 3, 4, 4, 0, 0, 0, 0, 1, 0], 0.0]\n",
            "[[2, 3, 4, 4, 0, 0, 0, 0, 1, 1], 0.0]\n",
            "[[2, 3, 4, 4, 0, 0, 0, 0, 1, 2], 0.0]\n",
            "[[2, 3, 4, 4, 0, 0, 0, 0, 1, 3], 0.0]\n",
            "[[2, 3, 4, 4, 0, 0, 0, 0, 1, 4], 0.0]\n",
            "[[2, 3, 4, 4, 0, 0, 0, 0, 2, 0], 0.0]\n",
            "[[2, 3, 4, 4, 0, 0, 0, 0, 2, 1], 0.0]\n"
          ],
          "name": "stdout"
        }
      ]
    }
  ]
}